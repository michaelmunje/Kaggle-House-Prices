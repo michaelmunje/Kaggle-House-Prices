{
 "cells": [
  {
   "cell_type": "code",
   "execution_count": 450,
   "metadata": {},
   "outputs": [
    {
     "data": {
      "text/html": [
       "<div>\n",
       "<style scoped>\n",
       "    .dataframe tbody tr th:only-of-type {\n",
       "        vertical-align: middle;\n",
       "    }\n",
       "\n",
       "    .dataframe tbody tr th {\n",
       "        vertical-align: top;\n",
       "    }\n",
       "\n",
       "    .dataframe thead th {\n",
       "        text-align: right;\n",
       "    }\n",
       "</style>\n",
       "<table border=\"1\" class=\"dataframe\">\n",
       "  <thead>\n",
       "    <tr style=\"text-align: right;\">\n",
       "      <th></th>\n",
       "      <th>Unnamed: 0</th>\n",
       "      <th>MSSubClass</th>\n",
       "      <th>LotFrontage</th>\n",
       "      <th>LotArea</th>\n",
       "      <th>OverallQual</th>\n",
       "      <th>OverallCond</th>\n",
       "      <th>YearBuilt</th>\n",
       "      <th>YearRemodAdd</th>\n",
       "      <th>MasVnrArea</th>\n",
       "      <th>BsmtFinSF1</th>\n",
       "      <th>...</th>\n",
       "      <th>SaleCondition_Partial</th>\n",
       "      <th>FireplaceQu_-1</th>\n",
       "      <th>FireplaceQu_0</th>\n",
       "      <th>FireplaceQu_2</th>\n",
       "      <th>FireplaceQu_3</th>\n",
       "      <th>FireplaceQu_4</th>\n",
       "      <th>PoolQC_-1</th>\n",
       "      <th>PoolQC_0</th>\n",
       "      <th>MiscFeature_-1</th>\n",
       "      <th>MiscFeature_2</th>\n",
       "    </tr>\n",
       "  </thead>\n",
       "  <tbody>\n",
       "    <tr>\n",
       "      <th>0</th>\n",
       "      <td>0</td>\n",
       "      <td>60</td>\n",
       "      <td>65.0</td>\n",
       "      <td>8450</td>\n",
       "      <td>7</td>\n",
       "      <td>5</td>\n",
       "      <td>2003</td>\n",
       "      <td>2003</td>\n",
       "      <td>196.0</td>\n",
       "      <td>706</td>\n",
       "      <td>...</td>\n",
       "      <td>0</td>\n",
       "      <td>1</td>\n",
       "      <td>0</td>\n",
       "      <td>0</td>\n",
       "      <td>0</td>\n",
       "      <td>0</td>\n",
       "      <td>1</td>\n",
       "      <td>0</td>\n",
       "      <td>1</td>\n",
       "      <td>0</td>\n",
       "    </tr>\n",
       "    <tr>\n",
       "      <th>1</th>\n",
       "      <td>1</td>\n",
       "      <td>20</td>\n",
       "      <td>80.0</td>\n",
       "      <td>9600</td>\n",
       "      <td>6</td>\n",
       "      <td>8</td>\n",
       "      <td>1976</td>\n",
       "      <td>1976</td>\n",
       "      <td>0.0</td>\n",
       "      <td>978</td>\n",
       "      <td>...</td>\n",
       "      <td>0</td>\n",
       "      <td>0</td>\n",
       "      <td>0</td>\n",
       "      <td>0</td>\n",
       "      <td>0</td>\n",
       "      <td>1</td>\n",
       "      <td>1</td>\n",
       "      <td>0</td>\n",
       "      <td>1</td>\n",
       "      <td>0</td>\n",
       "    </tr>\n",
       "    <tr>\n",
       "      <th>2</th>\n",
       "      <td>2</td>\n",
       "      <td>60</td>\n",
       "      <td>68.0</td>\n",
       "      <td>11250</td>\n",
       "      <td>7</td>\n",
       "      <td>5</td>\n",
       "      <td>2001</td>\n",
       "      <td>2002</td>\n",
       "      <td>162.0</td>\n",
       "      <td>486</td>\n",
       "      <td>...</td>\n",
       "      <td>0</td>\n",
       "      <td>0</td>\n",
       "      <td>0</td>\n",
       "      <td>0</td>\n",
       "      <td>0</td>\n",
       "      <td>1</td>\n",
       "      <td>1</td>\n",
       "      <td>0</td>\n",
       "      <td>1</td>\n",
       "      <td>0</td>\n",
       "    </tr>\n",
       "    <tr>\n",
       "      <th>3</th>\n",
       "      <td>3</td>\n",
       "      <td>70</td>\n",
       "      <td>60.0</td>\n",
       "      <td>9550</td>\n",
       "      <td>7</td>\n",
       "      <td>5</td>\n",
       "      <td>1915</td>\n",
       "      <td>1970</td>\n",
       "      <td>0.0</td>\n",
       "      <td>216</td>\n",
       "      <td>...</td>\n",
       "      <td>0</td>\n",
       "      <td>0</td>\n",
       "      <td>0</td>\n",
       "      <td>1</td>\n",
       "      <td>0</td>\n",
       "      <td>0</td>\n",
       "      <td>1</td>\n",
       "      <td>0</td>\n",
       "      <td>1</td>\n",
       "      <td>0</td>\n",
       "    </tr>\n",
       "    <tr>\n",
       "      <th>4</th>\n",
       "      <td>4</td>\n",
       "      <td>60</td>\n",
       "      <td>84.0</td>\n",
       "      <td>14260</td>\n",
       "      <td>8</td>\n",
       "      <td>5</td>\n",
       "      <td>2000</td>\n",
       "      <td>2000</td>\n",
       "      <td>350.0</td>\n",
       "      <td>655</td>\n",
       "      <td>...</td>\n",
       "      <td>0</td>\n",
       "      <td>0</td>\n",
       "      <td>0</td>\n",
       "      <td>0</td>\n",
       "      <td>0</td>\n",
       "      <td>1</td>\n",
       "      <td>1</td>\n",
       "      <td>0</td>\n",
       "      <td>1</td>\n",
       "      <td>0</td>\n",
       "    </tr>\n",
       "  </tbody>\n",
       "</table>\n",
       "<p>5 rows × 188 columns</p>\n",
       "</div>"
      ],
      "text/plain": [
       "   Unnamed: 0  MSSubClass  LotFrontage  LotArea  OverallQual  OverallCond  \\\n",
       "0           0          60         65.0     8450            7            5   \n",
       "1           1          20         80.0     9600            6            8   \n",
       "2           2          60         68.0    11250            7            5   \n",
       "3           3          70         60.0     9550            7            5   \n",
       "4           4          60         84.0    14260            8            5   \n",
       "\n",
       "   YearBuilt  YearRemodAdd  MasVnrArea  BsmtFinSF1  ...  \\\n",
       "0       2003          2003       196.0         706  ...   \n",
       "1       1976          1976         0.0         978  ...   \n",
       "2       2001          2002       162.0         486  ...   \n",
       "3       1915          1970         0.0         216  ...   \n",
       "4       2000          2000       350.0         655  ...   \n",
       "\n",
       "   SaleCondition_Partial  FireplaceQu_-1  FireplaceQu_0  FireplaceQu_2  \\\n",
       "0                      0               1              0              0   \n",
       "1                      0               0              0              0   \n",
       "2                      0               0              0              0   \n",
       "3                      0               0              0              1   \n",
       "4                      0               0              0              0   \n",
       "\n",
       "   FireplaceQu_3  FireplaceQu_4  PoolQC_-1  PoolQC_0  MiscFeature_-1  \\\n",
       "0              0              0          1         0               1   \n",
       "1              0              1          1         0               1   \n",
       "2              0              1          1         0               1   \n",
       "3              0              0          1         0               1   \n",
       "4              0              1          1         0               1   \n",
       "\n",
       "   MiscFeature_2  \n",
       "0              0  \n",
       "1              0  \n",
       "2              0  \n",
       "3              0  \n",
       "4              0  \n",
       "\n",
       "[5 rows x 188 columns]"
      ]
     },
     "execution_count": 450,
     "metadata": {},
     "output_type": "execute_result"
    }
   ],
   "source": [
    "import pandas as pd\n",
    "df = pd.read_csv('clean_data.csv')\n",
    "df.head()"
   ]
  },
  {
   "cell_type": "code",
   "execution_count": 451,
   "metadata": {},
   "outputs": [
    {
     "data": {
      "image/png": "[encoded data removed]",
      "text/plain": [
       "<Figure size 360x360 with 1 Axes>"
      ]
     },
     "metadata": {
      "needs_background": "light"
     },
     "output_type": "display_data"
    }
   ],
   "source": [
    "from matplotlib import pyplot as plt\n",
    "\n",
    "df['SalePrice'].hist(bins=50, facecolor='green', alpha=0.5)\n",
    "plt.xlabel('House Price')\n",
    "plt.ylabel('Freq.')\n",
    "fig = plt.gcf()\n",
    "fig.set_size_inches(5,5)\n",
    "plt.show()"
   ]
  },
  {
   "cell_type": "code",
   "execution_count": 452,
   "metadata": {},
   "outputs": [],
   "source": [
    "df = df.drop(df[df['SalePrice'] > 550000].index)\n",
    "# df = df.drop(df[df['SalePrice'] <  40000].index)"
   ]
  },
  {
   "cell_type": "code",
   "execution_count": 453,
   "metadata": {},
   "outputs": [],
   "source": [
    "from sklearn.model_selection import train_test_split\n",
    "from sklearn.ensemble import RandomForestRegressor\n",
    "from sklearn.metrics import r2_score\n",
    "from sklearn.metrics import mean_squared_error\n",
    "from sklearn.preprocessing import StandardScaler\n",
    "\n",
    "y = df['SalePrice'].values\n",
    "x = df.drop(columns=['SalePrice']).values\n",
    "\n",
    "from sklearn.decomposition import PCA\n",
    "\n",
    "x_train, x_test, y_train, y_test = train_test_split(x, y, random_state=42)"
   ]
  },
  {
   "cell_type": "code",
   "execution_count": 454,
   "metadata": {},
   "outputs": [],
   "source": [
    "scaler = StandardScaler()\n",
    "scaler.fit(x_train)\n",
    "x_scaled = scaler.transform(x_train)\n",
    "x_test_scaled = scaler.transform(x_test)\n",
    "\n",
    "pca = PCA(n_components=0.99)\n",
    "\n",
    "pca.fit(x_scaled)\n",
    "x_pca = pca.transform(x_scaled)\n",
    "x_test_pca = pca.transform(x_test_scaled)\n",
    "\n",
    "# x_train = x_pca\n",
    "# x_test = x_test_pca\n",
    "\n",
    "# x_train = x_scaled\n",
    "# x_test = x_test_scaled"
   ]
  },
  {
   "cell_type": "code",
   "execution_count": 455,
   "metadata": {},
   "outputs": [],
   "source": [
    "# Here we make functions in order to evaluate many different classification models\n",
    "\n",
    "from sklearn.metrics import r2_score\n",
    "from sklearn.metrics import mean_squared_error\n",
    "import numpy as np\n",
    "\n",
    "def get_houses_eval_metric(y_actual, y_pred):\n",
    "    total = 0\n",
    "    for y_a, y_p in zip(y_actual, y_pred):\n",
    "        total += (np.log(y_a) - np.log(y_p))**2\n",
    "    return (total/len(y_actual))**(1/2)\n",
    "\n",
    "# Print out machine learning model metrics\n",
    "def evaluation(y_actual, y_pred):\n",
    "    \n",
    "    r2 = r2_score(y_actual, y_pred)\n",
    "    mse = mean_squared_error(y_actual, y_pred)\n",
    "    rmse = mse**(1/2)\n",
    "    houses_metric = get_houses_eval_metric(y_actual, y_pred)\n",
    "    print('R2          : ', round(r2, 4))\n",
    "    print('RMSE        : ', round(rmse, 2))\n",
    "    print('HOUSE METRIC: ', round(houses_metric, 2))\n",
    "    return [r2, mse, rmse, houses_metric]\n",
    "      \n",
    "def try_regressor(regressor, name):\n",
    "    best_mse = np.Inf\n",
    "    for _ in range(1):\n",
    "        # Specify that these are global variables\n",
    "        global x_train, y_train\n",
    "        global x_test, y_test\n",
    "        regressor.fit(x_train, y_train)\n",
    "\n",
    "        if mean_squared_error(y_test, regressor.predict(x_test)) < best_mse:\n",
    "            print('Evaluation for', name, '\\n')\n",
    "            # Evaluate the test set\n",
    "            metrics = evaluation(y_test, regressor.predict(x_test))\n",
    "            best_mse = mean_squared_error(y_test, regressor.predict(x_test))\n",
    "    print(\"Best rmse: \", best_mse**(1/2))\n",
    "    return (metrics + [name])\n",
    "\n",
    "# Make a list to store model evaluation metrics\n",
    "regressor_results = list()"
   ]
  },
  {
   "cell_type": "code",
   "execution_count": 456,
   "metadata": {
    "scrolled": false
   },
   "outputs": [
    {
     "name": "stdout",
     "output_type": "stream",
     "text": [
      "Evaluation for Random Forest \n",
      "\n",
      "R2          :  0.8903\n",
      "RMSE        :  23935.27\n",
      "HOUSE METRIC:  0.15\n",
      "Best rmse:  23935.26754259795\n"
     ]
    }
   ],
   "source": [
    "rf_regr = RandomForestRegressor(n_estimators=100, min_samples_leaf=3)\n",
    "\n",
    "regressor_results.append(try_regressor(rf_regr, 'Random Forest'))"
   ]
  },
  {
   "cell_type": "code",
   "execution_count": 457,
   "metadata": {},
   "outputs": [
    {
     "name": "stdout",
     "output_type": "stream",
     "text": [
      "Evaluation for Ada Boost \n",
      "\n",
      "R2          :  0.8265\n",
      "RMSE        :  30104.28\n",
      "HOUSE METRIC:  0.2\n",
      "Best rmse:  30104.277447198263\n"
     ]
    }
   ],
   "source": [
    "from sklearn.ensemble import AdaBoostRegressor\n",
    "\n",
    "ada_regr = AdaBoostRegressor()\n",
    "\n",
    "regressor_results.append(try_regressor(ada_regr, \"Ada Boost\"))"
   ]
  },
  {
   "cell_type": "code",
   "execution_count": 458,
   "metadata": {},
   "outputs": [
    {
     "name": "stdout",
     "output_type": "stream",
     "text": [
      "Evaluation for Gradient Boosting \n",
      "\n",
      "R2          :  0.9246\n",
      "RMSE        :  19850.28\n",
      "HOUSE METRIC:  0.12\n",
      "Best rmse:  19850.27894208847\n"
     ]
    }
   ],
   "source": [
    "from sklearn.ensemble.gradient_boosting import GradientBoostingRegressor\n",
    "\n",
    "gb_regr = GradientBoostingRegressor(min_samples_leaf=3, n_estimators=3500, learning_rate=0.01)\n",
    "\n",
    "regressor_results.append(try_regressor(gb_regr, \"Gradient Boosting\"))"
   ]
  },
  {
   "cell_type": "code",
   "execution_count": 459,
   "metadata": {},
   "outputs": [
    {
     "name": "stdout",
     "output_type": "stream",
     "text": [
      "Evaluation for Neural Network \n",
      "\n",
      "R2          :  0.7546\n",
      "RMSE        :  35807.87\n",
      "HOUSE METRIC:  0.22\n",
      "Best rmse:  35807.87056799419\n"
     ]
    }
   ],
   "source": [
    "from sklearn.neural_network import MLPRegressor\n",
    "\n",
    "mlp_regr = MLPRegressor(max_iter=500, hidden_layer_sizes=(200,5), learning_rate='adaptive', solver='lbfgs')\n",
    "\n",
    "regressor_results.append(try_regressor(mlp_regr, \"Neural Network\"))"
   ]
  }
 ],
 "metadata": {
  "kernelspec": {
   "display_name": "Python 3",
   "language": "python",
   "name": "python3"
  },
  "language_info": {
   "codemirror_mode": {
    "name": "ipython",
    "version": 3
   },
   "file_extension": ".py",
   "mimetype": "text/x-python",
   "name": "python",
   "nbconvert_exporter": "python",
   "pygments_lexer": "ipython3",
   "version": "3.7.3"
  }
 },
 "nbformat": 4,
 "nbformat_minor": 2
}
